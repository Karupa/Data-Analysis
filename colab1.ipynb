{
  "nbformat": 4,
  "nbformat_minor": 0,
  "metadata": {
    "colab": {
      "name": "Untitled2.ipynb",
      "provenance": [],
      "collapsed_sections": [],
      "include_colab_link": true
    },
    "kernelspec": {
      "name": "python3",
      "display_name": "Python 3"
    }
  },
  "cells": [
    {
      "cell_type": "markdown",
      "metadata": {
        "id": "view-in-github",
        "colab_type": "text"
      },
      "source": [
        "<a href=\"https://colab.research.google.com/github/Karupa/Data-Analysis/blob/master/colab1.ipynb\" target=\"_parent\"><img src=\"https://colab.research.google.com/assets/colab-badge.svg\" alt=\"Open In Colab\"/></a>"
      ]
    },
    {
      "cell_type": "code",
      "metadata": {
        "id": "NT1D_Pg1YpI-",
        "colab_type": "code",
        "colab": {
          "base_uri": "https://localhost:8080/",
          "height": 34
        },
        "outputId": "4ab25a22-685c-46f8-c110-a0a21c503f49"
      },
      "source": [
        "list=['cat','dog','elephent']\n",
        "print(list[:])"
      ],
      "execution_count": 1,
      "outputs": [
        {
          "output_type": "stream",
          "text": [
            "['cat', 'dog', 'elephent']\n"
          ],
          "name": "stdout"
        }
      ]
    },
    {
      "cell_type": "code",
      "metadata": {
        "id": "CLI0yAJ-ZN8f",
        "colab_type": "code",
        "colab": {
          "base_uri": "https://localhost:8080/",
          "height": 34
        },
        "outputId": "8924434e-e49e-4eb5-c2bb-20f977ec4510"
      },
      "source": [
        "print (list[-1:1])"
      ],
      "execution_count": 5,
      "outputs": [
        {
          "output_type": "stream",
          "text": [
            "[]\n"
          ],
          "name": "stdout"
        }
      ]
    },
    {
      "cell_type": "code",
      "metadata": {
        "id": "JN-ZOoRPZW60",
        "colab_type": "code",
        "colab": {
          "base_uri": "https://localhost:8080/",
          "height": 69
        },
        "outputId": "837ba00c-e15c-4147-98bd-8a14e8eeba1b"
      },
      "source": [
        "for e in list:\n",
        "  print(e)"
      ],
      "execution_count": 6,
      "outputs": [
        {
          "output_type": "stream",
          "text": [
            "cat\n",
            "dog\n",
            "elephent\n"
          ],
          "name": "stdout"
        }
      ]
    },
    {
      "cell_type": "code",
      "metadata": {
        "id": "cdtki1JOZquc",
        "colab_type": "code",
        "colab": {
          "base_uri": "https://localhost:8080/",
          "height": 69
        },
        "outputId": "15cbc181-2901-4f53-aeb9-ddfee54d7682"
      },
      "source": [
        "for e in list:\n",
        "  if(e=='dg'):\n",
        "    print(e)\n",
        "  else:\n",
        "    print(\"not found\")"
      ],
      "execution_count": 8,
      "outputs": [
        {
          "output_type": "stream",
          "text": [
            "not found\n",
            "not found\n",
            "not found\n"
          ],
          "name": "stdout"
        }
      ]
    },
    {
      "cell_type": "code",
      "metadata": {
        "id": "3eXLI5NOZ1aJ",
        "colab_type": "code",
        "colab": {
          "base_uri": "https://localhost:8080/",
          "height": 34
        },
        "outputId": "238a8c72-fa9a-4c24-8667-bfe940071eb0"
      },
      "source": [
        "#Final code for the given problem\n",
        "\n",
        "\n",
        "list=[1,2,3,4,5]\n",
        "#initialize new list to null set->[]\n",
        "list1=[] \n",
        "list2=[]\n",
        "list3=[]\n",
        "for x in list:      #loop\n",
        "  list1.append(x**2)  #square\n",
        "  list2.append(x**3)  #cube\n",
        "  list3.append(x**4)  #quad\n",
        "\n",
        "dict={'square':list1,'cube':list2,'quad':list3}\n",
        "    \n",
        "print(dict)  "
      ],
      "execution_count": 23,
      "outputs": [
        {
          "output_type": "stream",
          "text": [
            "{'square': [1, 4, 9, 16, 25], 'cube': [1, 8, 27, 64, 125], 'quad': [1, 16, 81, 256, 625]}\n"
          ],
          "name": "stdout"
        }
      ]
    },
    {
      "cell_type": "code",
      "metadata": {
        "id": "8SpN4JfQb9JI",
        "colab_type": "code",
        "colab": {
          "base_uri": "https://localhost:8080/",
          "height": 34
        },
        "outputId": "2fb0c087-684a-4f47-bbf0-5f8bd216e4e8"
      },
      "source": [
        ""
      ],
      "execution_count": 15,
      "outputs": [
        {
          "output_type": "stream",
          "text": [
            "{'list1': [1, 4, 9, 16, 25], 'list2': [1, 8, 27, 64, 125], 'list3': [1, 16, 81, 256, 625]}\n"
          ],
          "name": "stdout"
        }
      ]
    },
    {
      "cell_type": "code",
      "metadata": {
        "id": "6NUx39BqdKbd",
        "colab_type": "code",
        "colab": {}
      },
      "source": [
        ""
      ],
      "execution_count": 0,
      "outputs": []
    }
  ]
}